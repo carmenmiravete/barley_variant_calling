{
  "nbformat": 4,
  "nbformat_minor": 0,
  "metadata": {
    "colab": {
      "provenance": [],
      "gpuType": "T4",
      "include_colab_link": true
    },
    "kernelspec": {
      "name": "python3",
      "display_name": "Python 3"
    },
    "language_info": {
      "name": "python"
    },
    "accelerator": "GPU"
  },
  "cells": [
    {
      "cell_type": "markdown",
      "metadata": {
        "id": "view-in-github",
        "colab_type": "text"
      },
      "source": [
        "<a href=\"https://colab.research.google.com/github/carmenmiravete/barley_variant_calling/blob/main/Lab3.ipynb\" target=\"_parent\"><img src=\"https://colab.research.google.com/assets/colab-badge.svg\" alt=\"Open In Colab\"/></a>"
      ]
    },
    {
      "cell_type": "markdown",
      "source": [
        "#Lab 3 - Group Practice\n"
      ],
      "metadata": {
        "id": "HTuAQLE0eZoF"
      }
    },
    {
      "cell_type": "markdown",
      "source": [
        "## 1. Installation of the libraries.\n",
        "\n",
        "**You need to add the installation of the library to use CUDA**"
      ],
      "metadata": {
        "id": "qZmd02zeqgC5"
      }
    },
    {
      "cell_type": "code",
      "source": [
        "!pip install bio"
      ],
      "metadata": {
        "id": "fJI17-wqaZVg",
        "colab": {
          "base_uri": "https://localhost:8080/"
        },
        "outputId": "afd8fa6d-f667-4f00-d466-b76d5862e5f7"
      },
      "execution_count": 1,
      "outputs": [
        {
          "output_type": "stream",
          "name": "stdout",
          "text": [
            "Collecting bio\n",
            "  Downloading bio-1.7.0-py3-none-any.whl (279 kB)\n",
            "\u001b[2K     \u001b[90m━━━━━━━━━━━━━━━━━━━━━━━━━━━━━━━━━━━━━━━━\u001b[0m \u001b[32m279.2/279.2 kB\u001b[0m \u001b[31m4.2 MB/s\u001b[0m eta \u001b[36m0:00:00\u001b[0m\n",
            "\u001b[?25hCollecting biopython>=1.80 (from bio)\n",
            "  Downloading biopython-1.83-cp310-cp310-manylinux_2_17_x86_64.manylinux2014_x86_64.whl (3.1 MB)\n",
            "\u001b[2K     \u001b[90m━━━━━━━━━━━━━━━━━━━━━━━━━━━━━━━━━━━━━━━━\u001b[0m \u001b[32m3.1/3.1 MB\u001b[0m \u001b[31m58.3 MB/s\u001b[0m eta \u001b[36m0:00:00\u001b[0m\n",
            "\u001b[?25hCollecting gprofiler-official (from bio)\n",
            "  Downloading gprofiler_official-1.0.0-py3-none-any.whl (9.3 kB)\n",
            "Collecting mygene (from bio)\n",
            "  Downloading mygene-3.2.2-py2.py3-none-any.whl (5.4 kB)\n",
            "Requirement already satisfied: pandas in /usr/local/lib/python3.10/dist-packages (from bio) (2.0.3)\n",
            "Requirement already satisfied: pooch in /usr/local/lib/python3.10/dist-packages (from bio) (1.8.1)\n",
            "Requirement already satisfied: requests in /usr/local/lib/python3.10/dist-packages (from bio) (2.31.0)\n",
            "Requirement already satisfied: tqdm in /usr/local/lib/python3.10/dist-packages (from bio) (4.66.4)\n",
            "Requirement already satisfied: numpy in /usr/local/lib/python3.10/dist-packages (from biopython>=1.80->bio) (1.25.2)\n",
            "Collecting biothings-client>=0.2.6 (from mygene->bio)\n",
            "  Downloading biothings_client-0.3.1-py2.py3-none-any.whl (29 kB)\n",
            "Requirement already satisfied: python-dateutil>=2.8.2 in /usr/local/lib/python3.10/dist-packages (from pandas->bio) (2.8.2)\n",
            "Requirement already satisfied: pytz>=2020.1 in /usr/local/lib/python3.10/dist-packages (from pandas->bio) (2023.4)\n",
            "Requirement already satisfied: tzdata>=2022.1 in /usr/local/lib/python3.10/dist-packages (from pandas->bio) (2024.1)\n",
            "Requirement already satisfied: platformdirs>=2.5.0 in /usr/local/lib/python3.10/dist-packages (from pooch->bio) (4.2.2)\n",
            "Requirement already satisfied: packaging>=20.0 in /usr/local/lib/python3.10/dist-packages (from pooch->bio) (24.0)\n",
            "Requirement already satisfied: charset-normalizer<4,>=2 in /usr/local/lib/python3.10/dist-packages (from requests->bio) (3.3.2)\n",
            "Requirement already satisfied: idna<4,>=2.5 in /usr/local/lib/python3.10/dist-packages (from requests->bio) (3.7)\n",
            "Requirement already satisfied: urllib3<3,>=1.21.1 in /usr/local/lib/python3.10/dist-packages (from requests->bio) (2.0.7)\n",
            "Requirement already satisfied: certifi>=2017.4.17 in /usr/local/lib/python3.10/dist-packages (from requests->bio) (2024.2.2)\n",
            "Requirement already satisfied: six>=1.5 in /usr/local/lib/python3.10/dist-packages (from python-dateutil>=2.8.2->pandas->bio) (1.16.0)\n",
            "Installing collected packages: biopython, gprofiler-official, biothings-client, mygene, bio\n",
            "Successfully installed bio-1.7.0 biopython-1.83 biothings-client-0.3.1 gprofiler-official-1.0.0 mygene-3.2.2\n"
          ]
        }
      ]
    },
    {
      "cell_type": "markdown",
      "source": [
        "## 2. Import the packets that are required.\n",
        "\n",
        "**You need to incorporate the packets to use CuPy**"
      ],
      "metadata": {
        "id": "Uo5dAmLqe8om"
      }
    },
    {
      "cell_type": "code",
      "source": [
        "import numpy as np\n",
        "from Bio import SeqIO\n",
        "import time\n"
      ],
      "metadata": {
        "id": "JZRvcSq5fChZ"
      },
      "execution_count": 2,
      "outputs": []
    },
    {
      "cell_type": "markdown",
      "source": [
        "## 3. Definition of the constants and functions to work with DNA letters as numbers.\n",
        "\n",
        "**Don't modify this part of the code**"
      ],
      "metadata": {
        "id": "ZyUkkBMufEzf"
      }
    },
    {
      "cell_type": "code",
      "source": [
        "DNA_A = 1\n",
        "DNA_C = 2\n",
        "DNA_T = 3\n",
        "DNA_G = 4\n",
        "DNA_NULL = 0\n",
        "DNA_LETTERS = ['-', 'A', 'C', 'T', 'G']\n",
        "\n",
        "def nucleotid2int(character):\n",
        "  if character == \"A\":\n",
        "    return DNA_A\n",
        "  elif character == \"C\":\n",
        "    return DNA_C\n",
        "  elif character == \"T\":\n",
        "    return DNA_T\n",
        "  elif character == \"G\":\n",
        "    return DNA_G\n",
        "  else:\n",
        "    return DNA_NULL\n",
        "\n",
        "def dna2int(dna):\n",
        "  return [nucleotid2int(character) for character in dna.upper()]\n",
        "\n",
        "def int2dna(values):\n",
        "  return [DNA_LETTERS[value] for value in values]"
      ],
      "metadata": {
        "id": "uWlcuTQWgJT7"
      },
      "execution_count": 3,
      "outputs": []
    },
    {
      "cell_type": "markdown",
      "source": [
        "## 4. Definition of the constants to calculate the alignment\n",
        "\n",
        "**Don't modify this part of the code**"
      ],
      "metadata": {
        "id": "OKDZOJMRgwW4"
      }
    },
    {
      "cell_type": "code",
      "source": [
        "POINTS_EQUAL = 1\n",
        "POINTS_NON_EQUAL = -1\n",
        "POINTS_GAP = -1\n",
        "\n",
        "MOVEMENT_START = 0\n",
        "MOVEMENT_RIGHT = 1\n",
        "MOVEMENT_DIAG = 2\n",
        "MOVEMENT_DOWN = 3"
      ],
      "metadata": {
        "id": "5PWaSWJbrPM5"
      },
      "execution_count": 4,
      "outputs": []
    },
    {
      "cell_type": "markdown",
      "source": [
        "## 5. Function to fill the first column of the scores matrix and the movements matrix.\n",
        "Convert it into a kernel"
      ],
      "metadata": {
        "id": "3BmPpP2CrS2w"
      }
    },
    {
      "cell_type": "code",
      "source": [
        "import cupy as cp\n",
        "from cupyx import jit"
      ],
      "metadata": {
        "id": "oI4df_56Aiea"
      },
      "execution_count": 5,
      "outputs": []
    },
    {
      "cell_type": "code",
      "source": [
        "@jit.rawkernel()\n",
        "def fill_first_column_kernel(scores, movements, n_rows):\n",
        "    row = jit.blockIdx.x\n",
        "    if row < n_rows:\n",
        "        scores[row, 0] = POINTS_GAP * row\n",
        "        movements[row, 0] = MOVEMENT_DOWN\n",
        "\n",
        "def fill_first_column(scores, movements, n_rows):\n",
        "    num_blocks = n_rows\n",
        "    threads_per_block = 1\n",
        "    fill_first_column_kernel[num_blocks, threads_per_block](scores, movements, n_rows)\n"
      ],
      "metadata": {
        "id": "--85rjvxAG2q",
        "colab": {
          "base_uri": "https://localhost:8080/"
        },
        "outputId": "4290aff9-20ca-4dc2-9425-56bb34aedf02"
      },
      "execution_count": 6,
      "outputs": [
        {
          "output_type": "stream",
          "name": "stderr",
          "text": [
            "/usr/local/lib/python3.10/dist-packages/cupyx/jit/_interface.py:171: FutureWarning: cupyx.jit.rawkernel is experimental. The interface can change in the future.\n",
            "  cupy._util.experimental('cupyx.jit.rawkernel')\n"
          ]
        }
      ]
    },
    {
      "cell_type": "markdown",
      "source": [
        "## 6. Function to fill the first row of the scores matrix and the movements matrix.\n",
        "\n",
        "Convert it into a kernel\n",
        "\n"
      ],
      "metadata": {
        "id": "afdI1kGBrhTH"
      }
    },
    {
      "cell_type": "code",
      "source": [
        "@jit.rawkernel()\n",
        "def fill_first_row_kernel(scores, movements, n_cols):\n",
        "    col = jit.blockIdx.x\n",
        "    if col < n_cols:\n",
        "        scores[0, col] = POINTS_GAP * col\n",
        "        movements[0, col] = MOVEMENT_RIGHT\n",
        "\n",
        "def fill_first_row(scores, movements, n_cols):\n",
        "    num_blocks = n_cols\n",
        "    threads_per_block = 1\n",
        "    fill_first_row_kernel[num_blocks, threads_per_block](scores, movements, n_cols)\n"
      ],
      "metadata": {
        "id": "e3XlnfcqrxOX"
      },
      "execution_count": 7,
      "outputs": []
    },
    {
      "cell_type": "markdown",
      "source": [
        "## 7. Functions to calculate the scores and the movements.\n",
        "\n",
        "Convert `calculate_scores_antidiag` into a kernel and modify `calculate_scores` to call the kernel"
      ],
      "metadata": {
        "id": "X-fBRYrtr2BY"
      }
    },
    {
      "cell_type": "code",
      "source": [
        "@jit.rawkernel()\n",
        "def calculate_scores_antidiag_kernel(sequence1, sequence2, scores, movements, antidiag, init_row, end_row, POINTS_EQUAL, POINTS_NON_EQUAL, POINTS_GAP, MOVEMENT_DIAG, MOVEMENT_DOWN, MOVEMENT_RIGHT, n_cols):\n",
        "    row = jit.blockIdx.x + init_row\n",
        "    if row <= end_row:\n",
        "        col = antidiag - row\n",
        "        comparison = POINTS_EQUAL * (sequence1[row - 1] == sequence2[col - 1]) + POINTS_NON_EQUAL * (sequence1[row - 1] != sequence2[col - 1])\n",
        "\n",
        "        new_score_diag = scores[row-1, col-1] + comparison\n",
        "        new_score_right = scores[row, col - 1] + POINTS_GAP\n",
        "        new_score_down = scores[row - 1, col] + POINTS_GAP\n",
        "\n",
        "        if (new_score_diag >= new_score_down) & (new_score_diag >= new_score_right):\n",
        "            scores[row, col] = new_score_diag\n",
        "            movements[row, col] = MOVEMENT_DIAG\n",
        "        elif (new_score_down >= new_score_right):\n",
        "            scores[row, col] = new_score_down\n",
        "            movements[row, col] = MOVEMENT_DOWN\n",
        "        else:\n",
        "            scores[row, col] = new_score_right\n",
        "            movements[row, col] = MOVEMENT_RIGHT\n",
        "\n",
        "def calculate_scores_antidiag(seq1, seq2, scores, movements, n_rows, n_cols):\n",
        "    num_blocks_x = (n_rows + 31) // 32\n",
        "    num_blocks_y = (n_cols + 31) // 32\n",
        "    threads_per_block_x = 32\n",
        "    threads_per_block_y = 32\n",
        "\n",
        "    calculate_scores_antidiag_kernel[(num_blocks_x, num_blocks_y), (threads_per_block_x, threads_per_block_y)](seq1, seq2, scores, movements, n_rows, n_cols, POINTS_EQUAL, POINTS_NON_EQUAL, POINTS_GAP, MOVEMENT_DIAG, MOVEMENT_DOWN, MOVEMENT_RIGHT)\n"
      ],
      "metadata": {
        "id": "8_cJ9KMKtKXw"
      },
      "execution_count": 8,
      "outputs": []
    },
    {
      "cell_type": "code",
      "source": [
        "\n",
        "def calculate_scores(seq1, seq2, scores, movements, n_rows, n_cols):\n",
        "  for antidiag in range(2, n_rows+n_cols-1):\n",
        "    if antidiag <= n_cols:\n",
        "      init_row = 1\n",
        "    else:\n",
        "      init_row = antidiag - n_cols + 1\n",
        "\n",
        "    if antidiag <= n_rows:\n",
        "      end_row = antidiag - 1\n",
        "    else:\n",
        "      end_row = n_rows - 1\n",
        "\n",
        "    n_rows_to_analyze = end_row - init_row + 1\n",
        "\n",
        "    calculate_scores_antidiag(seq1, seq2, scores, movements, antidiag, init_row, end_row)"
      ],
      "metadata": {
        "id": "PhuqW-zz9fCF"
      },
      "execution_count": 9,
      "outputs": []
    },
    {
      "cell_type": "markdown",
      "source": [
        "## 8. Function to calculate the results of the alignment\n",
        "\n",
        "**Do not modify**"
      ],
      "metadata": {
        "id": "Fw0lBfsDtO4C"
      }
    },
    {
      "cell_type": "code",
      "source": [
        "def fill_responses(seq1, seq2, scores, movements, n_rows, n_cols):\n",
        "  col = n_cols - 1\n",
        "  row = n_rows - 1\n",
        "\n",
        "  result1 = \"\"\n",
        "  result2 = \"\"\n",
        "  while (col + row) > 0:\n",
        "    if movements[row, col] == MOVEMENT_DIAG:\n",
        "      if (row > 0) & (row < n_rows):\n",
        "        result1 = seq1[row - 1] + result1\n",
        "      else:\n",
        "        result1 = '-' + result1\n",
        "\n",
        "      if (col > 0) & (col < n_cols):\n",
        "        result2 = seq2[col - 1] + result2\n",
        "      else:\n",
        "        result2 = '-' + result2\n",
        "\n",
        "      row -= 1\n",
        "      col -= 1\n",
        "\n",
        "    elif movements[row, col] == MOVEMENT_RIGHT:\n",
        "      result1 = '-' + result1\n",
        "\n",
        "      if (col > 0) & (col < n_cols):\n",
        "        result2 = seq2[col - 1] + result2\n",
        "      else:\n",
        "        result2 = '-' + result2\n",
        "\n",
        "      col -= 1\n",
        "\n",
        "    elif movements[row, col] == MOVEMENT_DOWN:\n",
        "      if (row > 0) & (row < n_rows):\n",
        "        result1 = seq1[row - 1] + result1\n",
        "      else:\n",
        "        result1 = '-' + result1\n",
        "\n",
        "      result2 = '-' + result2\n",
        "      row -= 1\n",
        "\n",
        "    else:\n",
        "      row -= 1\n",
        "      col -= 1\n",
        "\n",
        "  return result1, result2\n"
      ],
      "metadata": {
        "id": "HjXmqCeptWBM"
      },
      "execution_count": 10,
      "outputs": []
    },
    {
      "cell_type": "markdown",
      "source": [
        "## 9. Function to calculate the alignment.\n",
        "\n",
        "You need to modify it to:\n",
        " * Send the sequences to the GPU\n",
        " * Run the kernels `fill_first_column`and `fill_first_row`\n",
        " * Get the matrix of the `scores` and `movements into the CPU"
      ],
      "metadata": {
        "id": "p9UnU04aulVq"
      }
    },
    {
      "cell_type": "code",
      "source": [
        "# Main function to run the alignment\n",
        "def get_alignment(seq1, seq2):\n",
        "    seq1_int = dna2int(seq1)\n",
        "    seq1_gpu = cp.array(seq1_int, dtype=cp.int32)\n",
        "\n",
        "    seq2_int = dna2int(seq2)\n",
        "    seq2_gpu = cp.array(seq2_int, dtype=cp.int32)\n",
        "\n",
        "    n_rows = len(seq1) + 1\n",
        "    n_cols = len(seq2) + 1\n",
        "\n",
        "    scores_gpu = cp.empty((n_rows, n_cols), dtype=cp.int32)\n",
        "    movements_gpu = cp.empty((n_rows, n_cols), dtype=cp.int32)\n",
        "\n",
        "    # Launch kernels\n",
        "    fill_first_column_kernel[1, n_rows](scores_gpu, movements_gpu, n_rows)\n",
        "    fill_first_row_kernel[1, n_cols](scores_gpu, movements_gpu, n_cols)\n",
        "    for antidiag in range(2, n_rows + n_cols - 1):\n",
        "        if antidiag <= n_cols:\n",
        "            init_row = 1\n",
        "        else:\n",
        "            init_row = antidiag - n_cols + 1\n",
        "\n",
        "        if antidiag <= n_rows:\n",
        "            end_row = antidiag - 1\n",
        "        else:\n",
        "            end_row = n_rows - 1\n",
        "\n",
        "        n_rows_to_analyze = end_row - init_row + 1\n",
        "\n",
        "        calculate_scores_antidiag_kernel[(n_rows_to_analyze,), (1,)](seq1_gpu, seq2_gpu, scores_gpu, movements_gpu, antidiag, init_row, end_row, POINTS_EQUAL, POINTS_NON_EQUAL, POINTS_GAP, MOVEMENT_DIAG, MOVEMENT_DOWN, MOVEMENT_RIGHT, n_cols)\n",
        "\n",
        "    # Fetch results from GPU\n",
        "    scores_cpu = cp.asnumpy(scores_gpu)\n",
        "    movements_cpu = cp.asnumpy(movements_gpu)\n",
        "\n",
        "    result1, result2 = fill_responses(seq1, seq2, scores_cpu, movements_cpu, n_rows, n_cols)\n",
        "    return scores_cpu[n_rows-1, n_cols-1], result1, result2\n"
      ],
      "metadata": {
        "id": "kL_GgxZ-fNM7"
      },
      "execution_count": 11,
      "outputs": []
    },
    {
      "cell_type": "markdown",
      "source": [
        "## 10. Main function to run the alignment.\n",
        "\n",
        "You need to uplad the files of the first practice to test them."
      ],
      "metadata": {
        "id": "YAX23Rr9u_Wl"
      }
    },
    {
      "cell_type": "code",
      "execution_count": 12,
      "metadata": {
        "id": "Bw0PLwKtZ06o",
        "colab": {
          "base_uri": "https://localhost:8080/"
        },
        "outputId": "30053375-c18a-4c09-ac45-61880720895d"
      },
      "outputs": [
        {
          "output_type": "stream",
          "name": "stdout",
          "text": [
            "Sequences\n",
            "Sequence 1: AATGAATGAATGAATCAATGAATGAAT\n",
            "Sequence 2: AATAATAATAATGAATAATAAT\n",
            "\n",
            "Time for the alignment: 1.0399177074432373 s\n",
            "\n",
            "Alignment - Points  15\n",
            "Sequence 1: AATGAATGAATGAATCAATGAATGAAT\n",
            "Sequence 2: AAT-AAT-AAT-AATGAAT-AAT-AAT\n"
          ]
        }
      ],
      "source": [
        "seq1_file = \"sequence_0_1.fasta\"\n",
        "seq1 = list(SeqIO.parse(open(seq1_file), \"fasta\"))[0].seq\n",
        "seq2_file = \"sequence_0_2.fasta\"\n",
        "seq2 = list(SeqIO.parse(open(seq2_file), \"fasta\"))[0].seq\n",
        "\n",
        "print(\"Sequences\")\n",
        "print(\"Sequence 1:\", seq1)\n",
        "print(\"Sequence 2:\", seq2)\n",
        "\n",
        "start = time.time()\n",
        "\n",
        "points, result1, result2 = get_alignment(seq1, seq2)\n",
        "\n",
        "end = time.time()\n",
        "print(\"\\nTime for the alignment:\", end - start, 's')\n",
        "\n",
        "print(\"\\nAlignment - Points \", points)\n",
        "print(\"Sequence 1:\", result1)\n",
        "print(\"Sequence 2:\", result2)\n"
      ]
    },
    {
      "cell_type": "code",
      "source": [],
      "metadata": {
        "id": "5V6Ku6VMF23P"
      },
      "execution_count": null,
      "outputs": []
    }
  ]
}